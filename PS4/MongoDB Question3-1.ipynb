{
 "cells": [
  {
   "cell_type": "code",
   "execution_count": 1,
   "id": "a7f861e9",
   "metadata": {},
   "outputs": [
    {
     "name": "stdout",
     "output_type": "stream",
     "text": [
      "Requirement already satisfied: pymongo in c:\\users\\kenne\\anaconda3\\lib\\site-packages (4.6.0)\n",
      "Requirement already satisfied: dnspython<3.0.0,>=1.16.0 in c:\\users\\kenne\\anaconda3\\lib\\site-packages (from pymongo) (2.4.2)\n",
      "Note: you may need to restart the kernel to use updated packages.\n"
     ]
    }
   ],
   "source": [
    "pip install pymongo"
   ]
  },
  {
   "cell_type": "code",
   "execution_count": 2,
   "id": "f9097f0b",
   "metadata": {},
   "outputs": [],
   "source": [
    "from pymongo import MongoClient"
   ]
  },
  {
   "cell_type": "code",
   "execution_count": 3,
   "id": "1cb9b76a",
   "metadata": {},
   "outputs": [],
   "source": [
    "client = MongoClient()\n",
    "\n",
    "#my database for the books.json is called booksbd\n",
    "db = client.booksbd\n",
    "\n",
    "books = db.books"
   ]
  },
  {
   "cell_type": "code",
   "execution_count": 16,
   "id": "cf99c827",
   "metadata": {},
   "outputs": [
    {
     "name": "stdout",
     "output_type": "stream",
     "text": [
      "Enter Category: Java\n",
      "ISBN: 1935182722, title: Android in Action, Second Edition\n",
      "ISBN: 1935182234, title: Griffon in Action\n",
      "ISBN: 193518217X, title: OSGi in Depth\n",
      "ISBN: 1884777902, title: 3D User Interfaces with Java 3D\n",
      "ISBN: 193239415X, title: Hibernate in Action\n",
      "ISBN: N/A, title: Hibernate in Action (Chinese Edition)\n",
      "ISBN: 1932394885, title: Java Persistence with Hibernate\n",
      "ISBN: 1933988649, title: Hibernate Search in Action\n",
      "ISBN: 1935182323, title: jQuery in Action, Second Edition\n",
      "ISBN: 1935182307, title: Spring Dynamic Modules in Action\n",
      "ISBN: 1932394583, title: POJOs in Action\n",
      "ISBN: 1933988401, title: Seam in Action\n",
      "ISBN: 1933988541, title: Open Source SOA\n",
      "ISBN: 193398807X, title: Struts 2 in Action\n",
      "ISBN: 193518296X, title: Spring Roo in Action\n",
      "ISBN: 1933988967, title: Mule in Action\n",
      "ISBN: 1884777678, title: Java Foundation Classes\n",
      "ISBN: 1932394524k-e, title: Managing Components with Modeler\n",
      "ISBN: 1932394524l-e, title: Command-line Processing with CLI\n",
      "ISBN: 1932394524m-e, title: Understanding and Using Chain\n",
      "ISBN: 1932394524n-e, title: Working with the Logging and Discovery Components\n",
      "ISBN: 1932394524b-e, title: Uploading files with FileUpload\n",
      "ISBN: 1932394524c-e, title: Handling Protocols with the Net Component\n",
      "ISBN: 1932394524d-e, title: XML Parsing with Digester\n",
      "ISBN: 1932394524e-e, title: JXPath and Betwixt: Working with XML\n",
      "ISBN: 1932394524f-e, title: Validating Data with Validator\n",
      "ISBN: 1932394524g-e, title: Enhancing Java Core Libraries with Collections\n",
      "ISBN: 1932394524h-e, title: Enhancing Java Core Libraries with BeanUtils and Lang\n",
      "ISBN: 1932394524i-e, title: Pool and DBCP: Creating and Using Object Pools\n",
      "ISBN: 1933988932, title: Grails in Action\n",
      "ISBN: 1884777759, title: Up to Speed with Swing, Second Edition\n",
      "ISBN: 1933988231, title: GWT in Action\n",
      "ISBN: 1930110588, title: Java Development with Ant\n",
      "ISBN: 1932394281, title: Lucene in Action\n",
      "ISBN: 1933988177, title: Lucene in Action, Second Edition\n",
      "ISBN: 1884777538, title: The Awesome Power of PowerJ\n",
      "ISBN: N/A, title: Portlets and Apache Portals\n",
      "ISBN: 188477749X, title: Java Network Programming, Second Edition\n",
      "ISBN: 1932394249, title: Struts in Action\n",
      "ISBN: 1935182366, title: Camel in Action\n",
      "ISBN: 1933988029, title: JBoss in Action\n",
      "ISBN: 1932394842, title: Groovy in Action\n",
      "ISBN: 1935182447, title: Groovy in Action, Second Edition\n",
      "ISBN: 1935182579, title: Effective Unit Testing\n",
      "ISBN: 1935182943, title: Making Java Groovy\n",
      "ISBN: 1930110936, title: AspectJ in Action\n",
      "ISBN: 1933988053, title: AspectJ in Action, Second Edition\n",
      "ISBN: 1935182196, title: Hadoop in Action\n",
      "ISBN: 1933988894, title: Tuscany SCA in Action\n",
      "ISBN: 1932394117, title: Tapestry in Action\n",
      "ISBN: 193239480X, title: Ant in Action\n",
      "ISBN: 1935182617, title: iText in Action, Second Edition\n",
      "ISBN: 1932394478, title: Subversion in Action\n",
      "ISBN: 1884777651, title: Distributed Programming with Java\n",
      "ISBN: 1932394125, title: JavaServer Faces in Action\n",
      "ISBN: 1930110995, title: JUnit in Action\n",
      "ISBN: 1935182854, title: Tika in Action\n",
      "ISBN: 1933988991, title: JavaFX in Action\n",
      "ISBN: 1884777716, title: Server-Based Java Programming\n",
      "ISBN: 1935182684, title: Mahout in Action\n",
      "ISBN: 1933988347, title: EJB 3 in Action\n",
      "ISBN: 1935182994, title: EJB 3 in Action, Second Edition\n",
      "ISBN: 1930110049, title: Domino Development with Java\n",
      "ISBN: 1932394419, title: Hibernate Quickly\n",
      "ISBN: 1935182803, title: Lift in Action\n",
      "ISBN: 1932394230, title: JUnit Recipes\n",
      "ISBN: 1935182595, title: Clojure in Action\n",
      "ISBN: 1935182757, title: Scala in Action\n",
      "ISBN: 193398869X, title: Secrets of the JavaScript Ninja\n",
      "ISBN: 1884777848, title: Swing\n",
      "ISBN: 193011088X, title: Swing Second Edition\n",
      "ISBN: 1884777562, title: The Awesome Power of Java Beans\n",
      "ISBN: 1932394400, title: SCBCD Exam Study Kit\n",
      "ISBN: 1935182544, title: Portlets in Action\n",
      "ISBN: 1932394273, title: SWT/JFace in Action\n",
      "ISBN: 1930110359, title: Java 3D Programming\n",
      "ISBN: 193011009X, title: JSP Tag Libraries\n",
      "ISBN: 1930110464, title: Instant Messaging in Java\n",
      "ISBN: 1884777392, title: Java Applets and Channels Without Programming\n",
      "ISBN: 132632942, title: Making Sense of Java\n",
      "ISBN: 1933988940, title: ActiveMQ in Action\n",
      "ISBN: 1935182706, title: Scala in Depth\n",
      "ISBN: 1930110561, title: JMX in Action\n",
      "ISBN: 1930110944, title: EJB Cookbook\n",
      "ISBN: 1935182846, title: GWT in Action, Second Edition\n",
      "ISBN: 1935182021, title: JUnit in Action, Second Edition\n",
      "ISBN: 193011043X, title: Bitter Java\n",
      "ISBN: 1930110952, title: Bitter EJB\n",
      "ISBN: 1930110456, title: JDK 1.4 Tutorial\n",
      "ISBN: 1932394052, title: XDoclet in Action\n",
      "ISBN: 1932394354, title: Spring in Action\n",
      "ISBN: 1933988134, title: Spring in Action, Second Edition\n",
      "ISBN: 1935182358, title: Spring in Action, Third Edition\n",
      "ISBN: 1935182056, title: Spring in Practice\n",
      "ISBN: 1930110332, title: Java 2 Micro Edition\n",
      "ISBN: 188477766X, title: Java Servlets by Example\n"
     ]
    }
   ],
   "source": [
    "while True:\n",
    "    category = input('Enter Category: ')\n",
    "    \n",
    "    categories = db.books.distinct('categories')\n",
    "    if category in categories:\n",
    "        category = category.strip()\n",
    "\n",
    "        cursor = db.books.find({'categories': f'{category}'})\n",
    "        for book in cursor:\n",
    "            if 'isbn' not in book:\n",
    "                print(f\"ISBN: N/A, title: {book['title']}\")\n",
    "            elif 'title' not in book:\n",
    "                print(f\"ISBN: {book['isbn']}, title: N/A\")\n",
    "            else:\n",
    "                print(f\"ISBN: {book['isbn']}, title: {book['title']}\")\n",
    "        \n",
    "        break\n",
    "            \n",
    "    else:\n",
    "        print('Cateogry does not exist. Reenter')"
   ]
  }
 ],
 "metadata": {
  "kernelspec": {
   "display_name": "Python 3 (ipykernel)",
   "language": "python",
   "name": "python3"
  },
  "language_info": {
   "codemirror_mode": {
    "name": "ipython",
    "version": 3
   },
   "file_extension": ".py",
   "mimetype": "text/x-python",
   "name": "python",
   "nbconvert_exporter": "python",
   "pygments_lexer": "ipython3",
   "version": "3.9.12"
  }
 },
 "nbformat": 4,
 "nbformat_minor": 5
}
